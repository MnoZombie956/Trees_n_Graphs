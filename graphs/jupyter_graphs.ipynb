{
 "cells": [
  {
   "cell_type": "markdown",
   "metadata": {},
   "source": [
    "# Graphs & Algorithms - By MTSM\n",
    "Introduction to Algorithms, Third Edition - Thomas H. Cormen\n",
    "\n",
    "Projeto de Algoritmos com implmentações em Java e C++ - Nivio Ziviani\n",
    "\n",
    "*This is a personal code oriented breakthrough over tree concepts and implementation, it isn't my main theorical subjects' note, neither should be yours.\n"
   ]
  },
  {
   "attachments": {},
   "cell_type": "markdown",
   "metadata": {},
   "source": [
    "## 1 - Minimun Spanning Tree with Prim's Algorithms\n",
    "Graph to run Prim on:\n",
    "![img1](../images/mst.png)\n",
    "*focus in the vertices and bidirectional edges*"
   ]
  },
  {
   "cell_type": "code",
   "execution_count": 13,
   "metadata": {},
   "outputs": [
    {
     "name": "stdout",
     "output_type": "stream",
     "text": [
      "after Prim:\n",
      "[child:( v_value:1 len_adj: 2 ), parent:( None )]\n",
      "[child:( v_value:2 len_adj: 2 ), parent:( v_value:1 len_adj: 2 )]\n",
      "[child:( v_value:3 len_adj: 2 ), parent:( v_value:1 len_adj: 2 )]\n",
      "[child:( v_value:4 len_adj: 4 ), parent:( v_value:3 len_adj: 2 )]\n",
      "[child:( v_value:5 len_adj: 3 ), parent:( v_value:4 len_adj: 4 )]\n",
      "[child:( v_value:6 len_adj: 2 ), parent:( v_value:7 len_adj: 2 )]\n",
      "[child:( v_value:7 len_adj: 2 ), parent:( v_value:8 len_adj: 3 )]\n",
      "[child:( v_value:8 len_adj: 3 ), parent:( v_value:4 len_adj: 4 )]\n",
      "We can also create a second graph of it to pretty-print:\n",
      "Inserting:  1 None\n",
      "Inserting:  2 1\n",
      "Inserting:  3 1\n",
      "Inserting:  4 3\n",
      "Inserting:  5 4\n",
      "Inserting:  6 7\n",
      "Inserting:  7 8\n",
      "Inserting:  8 4\n",
      "Minimun Spanning Tree by Prim:\n",
      " 1\n",
      "|     2\n",
      "|     3\n",
      "|    |     4\n",
      "|    |    |     5\n"
     ]
    }
   ],
   "source": [
    "from base_graph import Graph\n",
    "\n",
    "from minimun_spanning_tree import Minimun_spanning_tree\n",
    "\n",
    "grafo = Minimun_spanning_tree()\n",
    "\n",
    "# building a directed, acyclic graph\n",
    "\n",
    "grafo.adiciona_vertice(1) # adding vertices\n",
    "grafo.adiciona_vertice(2)\n",
    "grafo.adiciona_vertice(3)\n",
    "grafo.adiciona_vertice(4)\n",
    "grafo.adiciona_vertice(5)\n",
    "grafo.adiciona_vertice(6)\n",
    "grafo.adiciona_vertice(7)\n",
    "grafo.adiciona_vertice(8)\n",
    "\n",
    "grafo.adiciona_aresta(1, 2, 1, bidirecional=True) # adding directed edges with 1 as weight\n",
    "grafo.adiciona_aresta(1, 3, 1, bidirecional=True)\n",
    "grafo.adiciona_aresta(2, 4, 1, bidirecional=True)\n",
    "grafo.adiciona_aresta(3, 4, 1, bidirecional=True)\n",
    "grafo.adiciona_aresta(4, 5, 1, bidirecional=True)\n",
    "grafo.adiciona_aresta(4, 8, 1, bidirecional=True)\n",
    "grafo.adiciona_aresta(5, 8, 1, bidirecional=True)\n",
    "grafo.adiciona_aresta(5, 6, 1, bidirecional=True)\n",
    "grafo.adiciona_aresta(6, 7, 1, bidirecional=True)\n",
    "grafo.adiciona_aresta(7, 8, 1, bidirecional=True)\n",
    "\n",
    "#grafo.print(1)\n",
    "\n",
    "# for the created graph, we can generate a corresponding minimun spanning tree (in a dictionary format) departing from a vertice\n",
    "dict_mpt = grafo.cria_arv_geradora_minima(1)\n",
    "\n",
    "print(\"after Prim:\")\n",
    "for v1,v2 in dict_mpt.items():\n",
    "\tprint(\"[child:(\",v1,\"), parent:(\",v2,\")]\") \n",
    "\n",
    "print(\"We can also create a second graph of it to pretty-print:\")\n",
    "\n",
    "grafo2 = Graph()\n",
    "\n",
    "grafo2.adiciona_vertice(1)\n",
    "grafo2.adiciona_vertice(2)\n",
    "grafo2.adiciona_vertice(3)\n",
    "grafo2.adiciona_vertice(4)\n",
    "grafo2.adiciona_vertice(5)\n",
    "\n",
    "for v1, v2 in dict_mpt.items():\n",
    "    v2value = None\n",
    "    if v2 is not None:\n",
    "        v2value = v2.valor\n",
    "    print(\"Inserting: \",v1.valor,v2value)\n",
    "    grafo2.adiciona_aresta(v2value, v1.valor, 1,bidirecional=False)\n",
    "print(\"Minimun Spanning Tree by Prim:\")\n",
    "grafo2.print(1)"
   ]
  }
 ],
 "metadata": {
  "kernelspec": {
   "display_name": "Python 3",
   "language": "python",
   "name": "python3"
  },
  "language_info": {
   "codemirror_mode": {
    "name": "ipython",
    "version": 3
   },
   "file_extension": ".py",
   "mimetype": "text/x-python",
   "name": "python",
   "nbconvert_exporter": "python",
   "pygments_lexer": "ipython3",
   "version": "3.8.2"
  }
 },
 "nbformat": 4,
 "nbformat_minor": 4
}
